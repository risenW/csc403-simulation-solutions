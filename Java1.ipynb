{
 "cells": [
  {
   "cell_type": "code",
   "execution_count": null,
   "metadata": {},
   "outputs": [],
   "source": [
    "package simulation_assignment;\n",
    "\n",
    "public class simulation_problem_1 {\n",
    "\n",
    "    public static void main(String[] args) {\n",
    "        // Initialize all variables to use\n",
    "        double rand = 0;\n",
    "        int[] Test = new int[50];\n",
    "        int[] random_number = new int[50];\n",
    "        int[] no_of_survivals = new int[50];\n",
    "\n",
    "        // Run the simulation 1000 times\n",
    "        for (int i = 0; i < 50; i++) {\n",
    "            rand = (Math.random() * 100);\n",
    "            Test[i] = i + 1;\n",
    "            random_number[i] = (int) (rand * 100);\n",
    "\n",
    "            if (0 < rand && rand <= 0.1296) {\n",
    "                no_of_survivals[i] = 0;\n",
    "            } else if (0.1296 < rand && rand <= 0.4752) {\n",
    "                no_of_survivals[i] = 1;\n",
    "            } else if (0.4752 < rand && rand <= 0.8208) {\n",
    "                no_of_survivals[i] = 2;\n",
    "            } else if (0.8208 < rand && rand <= 0.9744) {\n",
    "                no_of_survivals[i] = 3;\n",
    "            } else {\n",
    "                no_of_survivals[i] = 4;\n",
    "            }\n",
    "        }\n",
    "\n",
    "        double average = get_sum_of_array(no_of_survivals) / 50.0;\n",
    "        System.out.println(\"Average Number of Survival = \" + average);\n",
    "        \n",
    "       \n",
    "\n",
    "    }\n",
    "    \n",
    "    //A method to sum all the elements of an array\n",
    "    public static int get_sum_of_array(int[] array) {\n",
    "        int sum = 0;\n",
    "        for (int i = 0; i < array.length; i++) {\n",
    "            sum += array[i];\n",
    "        }\n",
    "        return sum;\n",
    "    }\n",
    "}\n"
   ]
  }
 ],
 "metadata": {
  "kernelspec": {
   "display_name": "Python 3",
   "language": "python",
   "name": "python3"
  },
  "language_info": {
   "codemirror_mode": {
    "name": "ipython",
    "version": 3
   },
   "file_extension": ".py",
   "mimetype": "text/x-python",
   "name": "python",
   "nbconvert_exporter": "python",
   "pygments_lexer": "ipython3",
   "version": "3.7.1"
  }
 },
 "nbformat": 4,
 "nbformat_minor": 2
}
