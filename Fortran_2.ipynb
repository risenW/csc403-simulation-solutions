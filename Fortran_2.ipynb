{
 "cells": [
  {
   "cell_type": "markdown",
   "metadata": {},
   "source": [
    "### QUESTION NUMBER 2, PAGE 172, EXAMPLE 9.5.2"
   ]
  },
  {
   "cell_type": "code",
   "execution_count": null,
   "metadata": {},
   "outputs": [],
   "source": [
    "program simulation_program_2\n",
    "implicit none\n",
    "\n",
    "!Initialize all variables to use\n",
    "integer count,i\n",
    "real r, average\n",
    "integer, dimension(1000) :: seed\n",
    "real, dimension(1000) :: day, polio_cases, rand_numbers\n",
    "\n",
    "!Set system clock so we can generate unique random number at every run\n",
    "call system_clock(count)\n",
    "seed = count\n",
    "call random_seed(put = seed)\n",
    "\n",
    "! Run the simulation for polio cases a 1000 times\n",
    "do i = 1,1000\n",
    "    call random_number(r)\n",
    "    day(i) = i + 1\n",
    "    rand_numbers(i) = int(r * 100)\n",
    "\n",
    "    if (r <= 0.05) then\n",
    "        polio_cases(i) = 0\n",
    "    else if (r > 0.05 .and. r <= 0.20) then\n",
    "        polio_cases(i) = 1\n",
    "    else if (r > 0.20 .and. r <= 0.42) then\n",
    "        polio_cases(i) = 2\n",
    "    else if (r > 0.42 .and. r <= 0.64) then\n",
    "        polio_cases(i) = 3\n",
    "    else if (r > 0.64 .and. r <= 0.81) then\n",
    "        polio_cases(i) = 4\n",
    "    else if (r > 0.81 .and. r <= 0.91) then\n",
    "        polio_cases(i) = 5\n",
    "    else if (r > 0.91 .and. r <= 0.96) then\n",
    "        polio_cases(i) = 6\n",
    "    else if (r > 0.96 .and. r <= 0.98) then\n",
    "        polio_cases(i) = 7\n",
    "    else if (r > 0.98 .and. r <= 0.99) then\n",
    "        polio_cases(i) = 7\n",
    "    else\n",
    "        polio_cases(i) = 9\n",
    "    endif\n",
    "\n",
    "call random_seed(get = seed)\n",
    "end do\n",
    "\n",
    "!Calculate the average number of polio cases\n",
    "average = sum(polio_cases) / 1000\n",
    "\n",
    "print *,'---------------DAY--------------------------------'\n",
    "print *, day\n",
    "print *,'---------------RANDOM NUMBERS--------------------------------'\n",
    "print *, rand_numbers\n",
    "print *,'---------------NO POLIO CASES--------------------------------'\n",
    "print *, polio_cases\n",
    "print *,'--------------------------------------------------'\n",
    "print *, 'The average number of Polio cases are: ', average\n",
    "\n",
    "end program simulation_program_2"
   ]
  }
 ],
 "metadata": {
  "kernelspec": {
   "display_name": "Python 3",
   "language": "python",
   "name": "python3"
  },
  "language_info": {
   "codemirror_mode": {
    "name": "ipython",
    "version": 3
   },
   "file_extension": ".py",
   "mimetype": "text/x-python",
   "name": "python",
   "nbconvert_exporter": "python",
   "pygments_lexer": "ipython3",
   "version": "3.7.1"
  }
 },
 "nbformat": 4,
 "nbformat_minor": 2
}
