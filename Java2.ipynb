{
 "cells": [
  {
   "cell_type": "code",
   "execution_count": null,
   "metadata": {},
   "outputs": [],
   "source": [
    "package simulation_assignment;\n",
    "\n",
    "public class simulation_problem_2 {\n",
    "\n",
    "    public static void main(String[] args) {\n",
    "        //Initialize variables\n",
    "        int[] polio_cases = new int[50];\n",
    "        int[] random_number = new int[50];\n",
    "        int[] day = new int[50];\n",
    "        double rand = 0;\n",
    "\n",
    "        // Run the simulation for 50 days\n",
    "        for (int i = 0; i < 50; i++) {\n",
    "            rand = (Math.random() * 100);\n",
    "            day[i] = i + 1;\n",
    "            random_number[i] = (int) (rand * 100);\n",
    "\n",
    "            if (0 < rand && rand <= 0.05) {\n",
    "                polio_cases[i] = 0;\n",
    "            } else if (0.05 < rand && rand <= 0.20) {\n",
    "                polio_cases[i] = 1;\n",
    "            } else if (0.20 < rand && rand <= 0.42) {\n",
    "                polio_cases[i] = 2;\n",
    "            } else if (0.42 < rand && rand <= 0.64) {\n",
    "                polio_cases[i] = 3;\n",
    "            } else if (0.64 < rand && rand <= 0.81) {\n",
    "                polio_cases[i] = 4;\n",
    "            } else if (0.81 < rand && rand <= 0.91) {\n",
    "                polio_cases[i] = 5;\n",
    "            } else if (0.91 < rand && rand <= 0.96) {\n",
    "                polio_cases[i] = 6;\n",
    "            } else if (0.96 < rand && rand <= 0.98) {\n",
    "                polio_cases[i] = 7;\n",
    "            } else if (0.98 < rand && rand <= 0.99) {\n",
    "                polio_cases[i] = 8;\n",
    "            } else {\n",
    "                polio_cases[i] = 9;\n",
    "            }\n",
    "        }\n",
    "\n",
    "        double average = get_sum_of_array(polio_cases) / 50.0;\n",
    "        System.out.println(\"Average No of Polio Cases is: \" + average);\n",
    "\n",
    "    }\n",
    "    \n",
    "    //A method to sum all the elements of an array\n",
    "\n",
    "    public static int get_sum_of_array(int[] array) {\n",
    "        int sum = 0;\n",
    "        for (int i = 0; i < array.length; i++) {\n",
    "            sum += array[i];\n",
    "        }\n",
    "        return sum;\n",
    "    }\n",
    "\n",
    "}\n"
   ]
  }
 ],
 "metadata": {
  "kernelspec": {
   "display_name": "Python 3",
   "language": "python",
   "name": "python3"
  },
  "language_info": {
   "codemirror_mode": {
    "name": "ipython",
    "version": 3
   },
   "file_extension": ".py",
   "mimetype": "text/x-python",
   "name": "python",
   "nbconvert_exporter": "python",
   "pygments_lexer": "ipython3",
   "version": "3.7.1"
  }
 },
 "nbformat": 4,
 "nbformat_minor": 2
}
