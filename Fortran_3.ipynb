{
 "cells": [
  {
   "cell_type": "markdown",
   "metadata": {},
   "source": [
    "### FORTRAN SOLUTION CODES\n",
    "### QUESTION NUMBER 1, PAGE 165, EXAMPLE 9.4.2\n",
    "## ------------------------------------------------------------------------------------------------------\n"
   ]
  },
  {
   "cell_type": "code",
   "execution_count": null,
   "metadata": {},
   "outputs": [],
   "source": [
    "program simulation_program_3\n",
    "implicit none\n",
    "\n",
    "!Initialize all variables to use\n",
    "integer count,i\n",
    "real r, average\n",
    "real, dimension(1000) :: test, no_of_survivals,rand_numbers\n",
    "integer, dimension(1000) :: seed\n",
    "\n",
    "!Initialize variables to hold the count\n",
    "integer, dimension(1) :: k1 = 0, k2 = 0, k3 = 0, k4 = 0, k5 = 0\n",
    "\n",
    "call system_clock(count)\n",
    "seed = count\n",
    "call random_seed(put = seed)\n",
    "\n",
    "!Run the simulation for 1000 times\n",
    "do i = 1,1000\n",
    "    call random_number(r)\n",
    "    test(i) = i + 1\n",
    "    rand_numbers(i) = int(r * 100)\n",
    "\n",
    "    if (r <= 0.1296) then\n",
    "        no_of_survivals(i) = 0\n",
    "        k1 = k1 + 1\n",
    "    else if (r > 0.1296 .and. r <= 0.4752) then\n",
    "        no_of_survivals(i) = 1\n",
    "        k2 = k2 + 1\n",
    "    else if (r > 0.4752 .and. r <= 0.8208) then\n",
    "        no_of_survivals(i) = 2\n",
    "        k3 = k3 + 1\n",
    "    else if (r > 0.8208 .and. r <= 0.9244) then\n",
    "        no_of_survivals(i) = 3\n",
    "        k4 = k4 + 1\n",
    "    else\n",
    "        no_of_survivals(i) = 4\n",
    "        k5 = k5 + 1\n",
    "    endif\n",
    "\n",
    "call random_seed(get = seed)\n",
    "end do\n",
    "\n",
    "print *,'In the first interval, the number of survivals is: ', k1\n",
    "print *,'In the second interval, the number of survivals is: ', k2\n",
    "print *,'In the third interval, the number of survivals is: ', k3\n",
    "print *,'In the fourth interval, the number of survivals is: ', k4\n",
    "print *,'In the fifth interval, the number of survivals is: ', k5\n",
    "\n",
    "!Print simulation table\n",
    "print *,'--------------------TEST--------------------------------'\n",
    "print *, test\n",
    "print *,'-----------------RANDOM NUMBER--------------------------------'\n",
    "print *, rand_numbers\n",
    "print *,'-----------------NO OF SURVIVALS--------------------------------'\n",
    "print *, no_of_survivals\n",
    "\n",
    "!Print the average number of survivals\n",
    "average = sum(no_of_survivals) / 1000\n",
    "\n",
    "end program simulation_program_3"
   ]
  }
 ],
 "metadata": {
  "kernelspec": {
   "display_name": "Python 3",
   "language": "python",
   "name": "python3"
  },
  "language_info": {
   "codemirror_mode": {
    "name": "ipython",
    "version": 3
   },
   "file_extension": ".py",
   "mimetype": "text/x-python",
   "name": "python",
   "nbconvert_exporter": "python",
   "pygments_lexer": "ipython3",
   "version": "3.7.1"
  }
 },
 "nbformat": 4,
 "nbformat_minor": 2
}
